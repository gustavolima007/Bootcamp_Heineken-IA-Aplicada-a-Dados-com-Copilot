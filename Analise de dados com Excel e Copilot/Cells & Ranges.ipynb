{
 "cells": [
  {
   "cell_type": "markdown",
   "metadata": {},
   "source": [
    "# Cells & Ranges\n",
    "\n",
    "\n",
    "- Celulas (Cells)\n",
    "\n",
    "\n",
    "- Intervalor (Range) - É um conjunto de celulas selecionadas\n",
    "\n",
    "-> C7:D7 (seleção do intervalo inteiro)\n",
    "\n",
    "-> D7;C8 (Células especificas)\n",
    "\n",
    "-> C7:D7;C8:D8 (Combinação de intervalos)\n"
   ]
  }
 ],
 "metadata": {
  "language_info": {
   "name": "python"
  }
 },
 "nbformat": 4,
 "nbformat_minor": 2
}
